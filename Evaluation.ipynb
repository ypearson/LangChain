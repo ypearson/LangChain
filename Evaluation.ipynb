{
 "cells": [
  {
   "cell_type": "code",
   "execution_count": 1,
   "id": "be03e660-4c66-4add-9711-3d421881aed0",
   "metadata": {},
   "outputs": [
    {
     "name": "stdout",
     "output_type": "stream",
     "text": [
      "python version = 3.11.6 (main, Feb  2 2024, 13:53:38) [GCC 11.4.0]\n",
      "langchain version = 0.0.347\n",
      "openai version = 0.27.7\n",
      "docarray version = 0.32.1\n"
     ]
    }
   ],
   "source": [
    "# Evaluation \n",
    "%reset -f\n",
    "# Evaluating a LLM-based application using LLMs\n",
    "def get_api_key():\n",
    "    import os\n",
    "    from dotenv import load_dotenv\n",
    "    # Unset OPENAI_API_KEY if it exists\n",
    "    os.environ.pop('OPENAI_API_KEY', None)\n",
    "    # Provide path and ignore currently set environment variable\n",
    "    dotenv_path = '.env'\n",
    "    load_dotenv(dotenv_path=dotenv_path, override=True)\n",
    "    # Access the environment variable\n",
    "    api_key = os.getenv('OPENAI_API_KEY')\n",
    "    if api_key is None:\n",
    "        print(\"API_KEY not found.\")\n",
    "    return api_key\n",
    "\n",
    "import openai\n",
    "openai.api_key = get_api_key()\n",
    "import langchain\n",
    "import docarray\n",
    "import tiktoken\n",
    "\n",
    "import sys\n",
    "print(f'python version = {sys.version}')\n",
    "\n",
    "# import langchain_community\n",
    "print(f'langchain version = {langchain.__version__}')\n",
    "print(f'openai version = {openai.__version__}')\n",
    "print(f'docarray version = {docarray.__version__}')\n",
    "# print(f'LangChain Community Version = {langchain_community.__version__}')\n",
    "\n",
    "# *** Course dependencies ***\n",
    "# python version = 3.9.17\n",
    "# langchain version = 0.0.179\n",
    "# openai version = 0.27.7\n",
    "# docarray version = 0.37.0\n",
    "# pydantic version = 1.10.12\n",
    "# *** Course dependencies ***"
   ]
  },
  {
   "cell_type": "code",
   "execution_count": 2,
   "id": "55417b15-44ec-493f-a88d-8770109d2295",
   "metadata": {},
   "outputs": [],
   "source": [
    "llm_model = \"gpt-3.5-turbo\""
   ]
  },
  {
   "cell_type": "code",
   "execution_count": 3,
   "id": "85eb9774-7333-4865-8b47-db944577c5a6",
   "metadata": {},
   "outputs": [],
   "source": [
    "from langchain.chains import RetrievalQA\n",
    "from langchain.chat_models import ChatOpenAI\n",
    "from langchain.document_loaders import CSVLoader\n",
    "from langchain.indexes import VectorstoreIndexCreator\n",
    "from langchain.vectorstores import DocArrayInMemorySearch"
   ]
  },
  {
   "cell_type": "code",
   "execution_count": 4,
   "id": "6abd8bd0-a98f-4c97-84e0-6a688c7fba01",
   "metadata": {},
   "outputs": [],
   "source": [
    "file = 'OutdoorClothingCatalog_1000.csv'\n",
    "loader = CSVLoader(file_path=file)\n",
    "csv_data = loader.load()"
   ]
  },
  {
   "cell_type": "code",
   "execution_count": 5,
   "id": "efdd2bce-ae19-4339-844a-4ccc4231ce96",
   "metadata": {},
   "outputs": [],
   "source": [
    "index = VectorstoreIndexCreator(\n",
    "    vectorstore_cls=DocArrayInMemorySearch\n",
    ").from_loaders([loader])"
   ]
  },
  {
   "cell_type": "code",
   "execution_count": 6,
   "id": "d49adeeb-3290-4000-9575-67267134cd0e",
   "metadata": {},
   "outputs": [],
   "source": [
    "llm = ChatOpenAI(temperature = 0.0, model=llm_model)\n",
    "\n",
    "retrievalQA_chain = RetrievalQA.from_chain_type(\n",
    "    llm=llm, \n",
    "    chain_type=\"stuff\", \n",
    "    retriever=index.vectorstore.as_retriever(), \n",
    "    verbose=True,\n",
    "    chain_type_kwargs = {\n",
    "        \"document_separator\": \"<<<<>>>>>\"\n",
    "    }\n",
    ")"
   ]
  },
  {
   "cell_type": "code",
   "execution_count": 7,
   "id": "e26d2c56-53b7-4160-b2d9-8117fa8b2f95",
   "metadata": {},
   "outputs": [
    {
     "data": {
      "text/plain": [
       "Document(page_content=\": 10\\nname: Cozy Comfort Pullover Set, Stripe\\ndescription: Perfect for lounging, this striped knit set lives up to its name. We used ultrasoft fabric and an easy design that's as comfortable at bedtime as it is when we have to make a quick run out.\\n\\nSize & Fit\\n- Pants are Favorite Fit: Sits lower on the waist.\\n- Relaxed Fit: Our most generous fit sits farthest from the body.\\n\\nFabric & Care\\n- In the softest blend of 63% polyester, 35% rayon and 2% spandex.\\n\\nAdditional Features\\n- Relaxed fit top with raglan sleeves and rounded hem.\\n- Pull-on pants have a wide elastic waistband and drawstring, side pockets and a modern slim leg.\\n\\nImported.\", metadata={'source': 'OutdoorClothingCatalog_1000.csv', 'row': 10})"
      ]
     },
     "execution_count": 7,
     "metadata": {},
     "output_type": "execute_result"
    }
   ],
   "source": [
    "# Sample document from CSV\n",
    "\n",
    "csv_data[10]"
   ]
  },
  {
   "cell_type": "code",
   "execution_count": 8,
   "id": "12fd8fc5-32f4-4665-a88f-613c2477064a",
   "metadata": {},
   "outputs": [
    {
     "data": {
      "text/plain": [
       "Document(page_content=': 11\\nname: Ultra-Lofty 850 Stretch Down Hooded Jacket\\ndescription: This technical stretch down jacket from our DownTek collection is sure to keep you warm and comfortable with its full-stretch construction providing exceptional range of motion. With a slightly fitted style that falls at the hip and best with a midweight layer, this jacket is suitable for light activity up to 20° and moderate activity up to -30°. The soft and durable 100% polyester shell offers complete windproof protection and is insulated with warm, lofty goose down. Other features include welded baffles for a no-stitch construction and excellent stretch, an adjustable hood, an interior media port and mesh stash pocket and a hem drawcord. Machine wash and dry. Imported.', metadata={'source': 'OutdoorClothingCatalog_1000.csv', 'row': 11})"
      ]
     },
     "execution_count": 8,
     "metadata": {},
     "output_type": "execute_result"
    }
   ],
   "source": [
    "# Sample document from CSV\n",
    "\n",
    "csv_data[11]"
   ]
  },
  {
   "cell_type": "code",
   "execution_count": 9,
   "id": "83099580-5d5b-47d5-a7ec-828cb87128e0",
   "metadata": {},
   "outputs": [],
   "source": [
    "# Manually create question / answer pairs for evaluation\n",
    "evaluation_queries = [\n",
    "    {\n",
    "        \"query\": \"Do the Cozy Comfort Pullover Set have side pockets?\",\n",
    "        \"answer\": \"Yes\"\n",
    "    },\n",
    "    {\n",
    "        \"query\": \"What collection is the Ultra-Lofty 850 Stretch Down Hooded Jacket from?\",\n",
    "        \"answer\": \"The DownTek collection\"\n",
    "    }\n",
    "]"
   ]
  },
  {
   "cell_type": "code",
   "execution_count": 10,
   "id": "effa360f-566b-490e-b96e-9c22e1fad788",
   "metadata": {},
   "outputs": [],
   "source": [
    "# So we can import the QA generation chain. And this will take in documents and it will create a \n",
    "# question answer pair from each document. It'll do this using a language model itself.\n",
    "\n",
    "from langchain.evaluation.qa import QAGenerateChain"
   ]
  },
  {
   "cell_type": "code",
   "execution_count": 11,
   "id": "4a518811-664c-448c-9935-158165cba317",
   "metadata": {},
   "outputs": [],
   "source": [
    "# Generate questions and answers based on data\n",
    "\n",
    "evalution_qa_pair_chain = QAGenerateChain.from_llm(ChatOpenAI(model=llm_model))"
   ]
  },
  {
   "cell_type": "code",
   "execution_count": 12,
   "id": "2fe7c109-6060-4d9b-973d-618e9e958ad2",
   "metadata": {},
   "outputs": [
    {
     "name": "stderr",
     "output_type": "stream",
     "text": [
      "/home/ypearson/.pyenv/versions/3.11.6/lib/python3.11/site-packages/langchain/chains/llm.py:344: UserWarning: The apply_and_parse method is deprecated, instead pass an output parser directly to LLMChain.\n",
      "  warnings.warn(\n"
     ]
    },
    {
     "name": "stdout",
     "output_type": "stream",
     "text": [
      "{'qa_pairs': {'query': \"What is the weight of each pair of Women's Campside Oxfords?\", 'answer': \"The approximate weight of each pair of Women's Campside Oxfords is 1 lb. 1 oz.\"}}\n",
      "{'qa_pairs': {'query': 'What are the dimensions of the small and medium sizes of the Recycled Waterhog Dog Mat, Chevron Weave?', 'answer': 'The small size of the Recycled Waterhog Dog Mat, Chevron Weave has dimensions of 18\" x 28\", while the medium size has dimensions of 22.5\" x 34.5\".'}}\n",
      "{'qa_pairs': {'query': \"What are some features of the Infant and Toddler Girls' Coastal Chill Swimsuit, Two-Piece?\", 'answer': \"The features of the Infant and Toddler Girls' Coastal Chill Swimsuit, Two-Piece include bright colors, ruffles, exclusive whimsical prints, four-way-stretch and chlorine-resistant fabric, UPF 50+ rated fabric for sun protection, crossover no-slip straps, fully lined bottom, and the ability to be machine washed and line dried for best results.\"}}\n",
      "{'qa_pairs': {'query': 'What is the fabric composition of the Refresh Swimwear, V-Neck Tankini Contrasts?', 'answer': 'The Refresh Swimwear, V-Neck Tankini Contrasts is made of 82% recycled nylon and 18% Lycra® spandex for the body, and 90% recycled nylon and 10% Lycra® spandex for the lining.'}}\n",
      "{'qa_pairs': {'query': 'What is the key feature of the EcoFlex 3L Storm Pants that sets them apart from other waterproof pants?', 'answer': 'The key feature of the EcoFlex 3L Storm Pants is the state-of-the-art TEK O2 technology, which offers the most breathability ever tested.'}}\n"
     ]
    }
   ],
   "source": [
    "# wrap product description in list of dict with `doc` key\n",
    "evalution_qa_pairs = evalution_qa_pair_chain.apply_and_parse(\n",
    "    [{\"doc\": t} for t in csv_data[:5]]\n",
    ")\n",
    "for i in range(0,len(evalution_qa_pairs)):\n",
    "    print(evalution_qa_pairs[i])\n",
    "evalution_qa_pairs = [ q['qa_pairs'] for q in evalution_qa_pairs]"
   ]
  },
  {
   "cell_type": "code",
   "execution_count": 13,
   "id": "7671ce1b-e630-4246-b045-89901ce47a72",
   "metadata": {},
   "outputs": [
    {
     "name": "stdout",
     "output_type": "stream",
     "text": [
      "{'query': \"What is the weight of each pair of Women's Campside Oxfords?\", 'answer': \"The approximate weight of each pair of Women's Campside Oxfords is 1 lb. 1 oz.\"}\n",
      "{'query': 'What are the dimensions of the small and medium sizes of the Recycled Waterhog Dog Mat, Chevron Weave?', 'answer': 'The small size of the Recycled Waterhog Dog Mat, Chevron Weave has dimensions of 18\" x 28\", while the medium size has dimensions of 22.5\" x 34.5\".'}\n",
      "{'query': \"What are some features of the Infant and Toddler Girls' Coastal Chill Swimsuit, Two-Piece?\", 'answer': \"The features of the Infant and Toddler Girls' Coastal Chill Swimsuit, Two-Piece include bright colors, ruffles, exclusive whimsical prints, four-way-stretch and chlorine-resistant fabric, UPF 50+ rated fabric for sun protection, crossover no-slip straps, fully lined bottom, and the ability to be machine washed and line dried for best results.\"}\n",
      "{'query': 'What is the fabric composition of the Refresh Swimwear, V-Neck Tankini Contrasts?', 'answer': 'The Refresh Swimwear, V-Neck Tankini Contrasts is made of 82% recycled nylon and 18% Lycra® spandex for the body, and 90% recycled nylon and 10% Lycra® spandex for the lining.'}\n",
      "{'query': 'What is the key feature of the EcoFlex 3L Storm Pants that sets them apart from other waterproof pants?', 'answer': 'The key feature of the EcoFlex 3L Storm Pants is the state-of-the-art TEK O2 technology, which offers the most breathability ever tested.'}\n"
     ]
    }
   ],
   "source": [
    "for i in range(0,len(evalution_qa_pairs)):\n",
    "    print(evalution_qa_pairs[i])\n"
   ]
  },
  {
   "cell_type": "code",
   "execution_count": 14,
   "id": "8baafc62-77de-4ac5-9476-d36c1053af13",
   "metadata": {},
   "outputs": [
    {
     "data": {
      "text/plain": [
       "Document(page_content=\": 0\\nname: Women's Campside Oxfords\\ndescription: This ultracomfortable lace-to-toe Oxford boasts a super-soft canvas, thick cushioning, and quality construction for a broken-in feel from the first time you put them on. \\n\\nSize & Fit: Order regular shoe size. For half sizes not offered, order up to next whole size. \\n\\nSpecs: Approx. weight: 1 lb.1 oz. per pair. \\n\\nConstruction: Soft canvas material for a broken-in feel and look. Comfortable EVA innersole with Cleansport NXT® antimicrobial odor control. Vintage hunt, fish and camping motif on innersole. Moderate arch contour of innersole. EVA foam midsole for cushioning and support. Chain-tread-inspired molded rubber outsole with modified chain-tread pattern. Imported. \\n\\nQuestions? Please contact us for any inquiries.\", metadata={'source': 'OutdoorClothingCatalog_1000.csv', 'row': 0})"
      ]
     },
     "execution_count": 14,
     "metadata": {},
     "output_type": "execute_result"
    }
   ],
   "source": [
    "csv_data[0]"
   ]
  },
  {
   "cell_type": "code",
   "execution_count": 15,
   "id": "663db181-f151-43d2-ad06-2d350c4c3767",
   "metadata": {},
   "outputs": [],
   "source": [
    "# Combine manually create QA pairs with generated pairs\n",
    "evaluation_queries += evalution_qa_pairs"
   ]
  },
  {
   "cell_type": "code",
   "execution_count": 17,
   "id": "3b4e3a15-e07a-4ceb-a9f5-4c8acd537b90",
   "metadata": {},
   "outputs": [
    {
     "name": "stdout",
     "output_type": "stream",
     "text": [
      "{'query': 'Do the Cozy Comfort Pullover Set have side pockets?', 'answer': 'Yes'}\n",
      "\n",
      "\n",
      "\u001b[1m> Entering new RetrievalQA chain...\u001b[0m\n",
      "\n",
      "\u001b[1m> Finished chain.\u001b[0m\n"
     ]
    },
    {
     "data": {
      "text/plain": [
       "'Yes, the Cozy Comfort Pullover Set does have side pockets.'"
      ]
     },
     "execution_count": 17,
     "metadata": {},
     "output_type": "execute_result"
    }
   ],
   "source": [
    "print(evaluation_queries[0])\n",
    "# Convenience method for executing chain\n",
    "retrievalQA_chain.run(evaluation_queries[0][\"query\"])"
   ]
  },
  {
   "cell_type": "code",
   "execution_count": 18,
   "id": "4bb1f162-53c7-40ff-b5b6-f933fae7bf02",
   "metadata": {},
   "outputs": [
    {
     "name": "stdout",
     "output_type": "stream",
     "text": [
      "[{'query': 'Do the Cozy Comfort Pullover Set have side pockets?', 'answer': 'Yes'}, {'query': 'What collection is the Ultra-Lofty 850 Stretch Down Hooded Jacket from?', 'answer': 'The DownTek collection'}, {'query': \"What is the weight of each pair of Women's Campside Oxfords?\", 'answer': \"The approximate weight of each pair of Women's Campside Oxfords is 1 lb. 1 oz.\"}, {'query': 'What are the dimensions of the small and medium sizes of the Recycled Waterhog Dog Mat, Chevron Weave?', 'answer': 'The small size of the Recycled Waterhog Dog Mat, Chevron Weave has dimensions of 18\" x 28\", while the medium size has dimensions of 22.5\" x 34.5\".'}, {'query': \"What are some features of the Infant and Toddler Girls' Coastal Chill Swimsuit, Two-Piece?\", 'answer': \"The features of the Infant and Toddler Girls' Coastal Chill Swimsuit, Two-Piece include bright colors, ruffles, exclusive whimsical prints, four-way-stretch and chlorine-resistant fabric, UPF 50+ rated fabric for sun protection, crossover no-slip straps, fully lined bottom, and the ability to be machine washed and line dried for best results.\"}, {'query': 'What is the fabric composition of the Refresh Swimwear, V-Neck Tankini Contrasts?', 'answer': 'The Refresh Swimwear, V-Neck Tankini Contrasts is made of 82% recycled nylon and 18% Lycra® spandex for the body, and 90% recycled nylon and 10% Lycra® spandex for the lining.'}, {'query': 'What is the key feature of the EcoFlex 3L Storm Pants that sets them apart from other waterproof pants?', 'answer': 'The key feature of the EcoFlex 3L Storm Pants is the state-of-the-art TEK O2 technology, which offers the most breathability ever tested.'}]\n"
     ]
    }
   ],
   "source": [
    "# Turn on debug mode\n",
    "\n",
    "import langchain\n",
    "langchain.debug = True\n",
    "langchain.debug = False\n",
    "\n",
    "print(evaluation_queries)"
   ]
  },
  {
   "cell_type": "code",
   "execution_count": 24,
   "id": "04fc682d-d601-4623-9e3f-ae12c063eb3e",
   "metadata": {},
   "outputs": [
    {
     "name": "stdout",
     "output_type": "stream",
     "text": [
      "{'query': 'Do the Cozy Comfort Pullover Set have side pockets?', 'answer': 'Yes'}\n",
      "{'query': 'What collection is the Ultra-Lofty 850 Stretch Down Hooded Jacket from?', 'answer': 'The DownTek collection'}\n",
      "{'query': \"What is the weight of each pair of Women's Campside Oxfords?\", 'answer': \"The approximate weight of each pair of Women's Campside Oxfords is 1 lb. 1 oz.\"}\n",
      "{'query': 'What are the dimensions of the small and medium sizes of the Recycled Waterhog Dog Mat, Chevron Weave?', 'answer': 'The small size of the Recycled Waterhog Dog Mat, Chevron Weave has dimensions of 18\" x 28\", while the medium size has dimensions of 22.5\" x 34.5\".'}\n",
      "{'query': \"What are some features of the Infant and Toddler Girls' Coastal Chill Swimsuit, Two-Piece?\", 'answer': \"The features of the Infant and Toddler Girls' Coastal Chill Swimsuit, Two-Piece include bright colors, ruffles, exclusive whimsical prints, four-way-stretch and chlorine-resistant fabric, UPF 50+ rated fabric for sun protection, crossover no-slip straps, fully lined bottom, and the ability to be machine washed and line dried for best results.\"}\n",
      "{'query': 'What is the fabric composition of the Refresh Swimwear, V-Neck Tankini Contrasts?', 'answer': 'The Refresh Swimwear, V-Neck Tankini Contrasts is made of 82% recycled nylon and 18% Lycra® spandex for the body, and 90% recycled nylon and 10% Lycra® spandex for the lining.'}\n",
      "{'query': 'What is the key feature of the EcoFlex 3L Storm Pants that sets them apart from other waterproof pants?', 'answer': 'The key feature of the EcoFlex 3L Storm Pants is the state-of-the-art TEK O2 technology, which offers the most breathability ever tested.'}\n",
      "\n",
      "\n",
      "\u001b[1m> Entering new RetrievalQA chain...\u001b[0m\n",
      "\n",
      "\u001b[1m> Finished chain.\u001b[0m\n",
      "\n",
      "\n",
      "\u001b[1m> Entering new RetrievalQA chain...\u001b[0m\n",
      "\n",
      "\u001b[1m> Finished chain.\u001b[0m\n",
      "\n",
      "\n",
      "\u001b[1m> Entering new RetrievalQA chain...\u001b[0m\n",
      "\n",
      "\u001b[1m> Finished chain.\u001b[0m\n",
      "\n",
      "\n",
      "\u001b[1m> Entering new RetrievalQA chain...\u001b[0m\n",
      "\n",
      "\u001b[1m> Finished chain.\u001b[0m\n",
      "\n",
      "\n",
      "\u001b[1m> Entering new RetrievalQA chain...\u001b[0m\n",
      "\n",
      "\u001b[1m> Finished chain.\u001b[0m\n",
      "\n",
      "\n",
      "\u001b[1m> Entering new RetrievalQA chain...\u001b[0m\n",
      "\n",
      "\u001b[1m> Finished chain.\u001b[0m\n",
      "\n",
      "\n",
      "\u001b[1m> Entering new RetrievalQA chain...\u001b[0m\n",
      "\n",
      "\u001b[1m> Finished chain.\u001b[0m\n",
      "[{'query': 'Do the Cozy Comfort Pullover Set have side pockets?', 'answer': 'Yes'}, {'query': 'What collection is the Ultra-Lofty 850 Stretch Down Hooded Jacket from?', 'answer': 'The DownTek collection'}, {'query': \"What is the weight of each pair of Women's Campside Oxfords?\", 'answer': \"The approximate weight of each pair of Women's Campside Oxfords is 1 lb. 1 oz.\"}, {'query': 'What are the dimensions of the small and medium sizes of the Recycled Waterhog Dog Mat, Chevron Weave?', 'answer': 'The small size of the Recycled Waterhog Dog Mat, Chevron Weave has dimensions of 18\" x 28\", while the medium size has dimensions of 22.5\" x 34.5\".'}, {'query': \"What are some features of the Infant and Toddler Girls' Coastal Chill Swimsuit, Two-Piece?\", 'answer': \"The features of the Infant and Toddler Girls' Coastal Chill Swimsuit, Two-Piece include bright colors, ruffles, exclusive whimsical prints, four-way-stretch and chlorine-resistant fabric, UPF 50+ rated fabric for sun protection, crossover no-slip straps, fully lined bottom, and the ability to be machine washed and line dried for best results.\"}, {'query': 'What is the fabric composition of the Refresh Swimwear, V-Neck Tankini Contrasts?', 'answer': 'The Refresh Swimwear, V-Neck Tankini Contrasts is made of 82% recycled nylon and 18% Lycra® spandex for the body, and 90% recycled nylon and 10% Lycra® spandex for the lining.'}, {'query': 'What is the key feature of the EcoFlex 3L Storm Pants that sets them apart from other waterproof pants?', 'answer': 'The key feature of the EcoFlex 3L Storm Pants is the state-of-the-art TEK O2 technology, which offers the most breathability ever tested.'}]\n",
      "*******\n",
      "\n",
      "[{'query': 'Do the Cozy Comfort Pullover Set have side pockets?', 'answer': 'Yes', 'result': 'Yes, the Cozy Comfort Pullover Set does have side pockets.'}, {'query': 'What collection is the Ultra-Lofty 850 Stretch Down Hooded Jacket from?', 'answer': 'The DownTek collection', 'result': 'The Ultra-Lofty 850 Stretch Down Hooded Jacket is from the DownTek collection.'}, {'query': \"What is the weight of each pair of Women's Campside Oxfords?\", 'answer': \"The approximate weight of each pair of Women's Campside Oxfords is 1 lb. 1 oz.\", 'result': \"The weight of each pair of Women's Campside Oxfords is approximately 1 lb. 1 oz.\"}, {'query': 'What are the dimensions of the small and medium sizes of the Recycled Waterhog Dog Mat, Chevron Weave?', 'answer': 'The small size of the Recycled Waterhog Dog Mat, Chevron Weave has dimensions of 18\" x 28\", while the medium size has dimensions of 22.5\" x 34.5\".', 'result': 'The dimensions of the small size of the Recycled Waterhog Dog Mat, Chevron Weave are 18\" x 28\". The dimensions of the medium size are 22.5\" x 34.5\".'}, {'query': \"What are some features of the Infant and Toddler Girls' Coastal Chill Swimsuit, Two-Piece?\", 'answer': \"The features of the Infant and Toddler Girls' Coastal Chill Swimsuit, Two-Piece include bright colors, ruffles, exclusive whimsical prints, four-way-stretch and chlorine-resistant fabric, UPF 50+ rated fabric for sun protection, crossover no-slip straps, fully lined bottom, and the ability to be machine washed and line dried for best results.\", 'result': \"Some features of the Infant and Toddler Girls' Coastal Chill Swimsuit, Two-Piece are:\\n- Bright colors and ruffles\\n- Exclusive whimsical prints\\n- Four-way-stretch and chlorine-resistant fabric\\n- UPF 50+ rated fabric for sun protection\\n- Crossover no-slip straps\\n- Fully lined bottom for secure fit and maximum coverage\\n- Machine washable and line dry for best results\\n- Imported\"}, {'query': 'What is the fabric composition of the Refresh Swimwear, V-Neck Tankini Contrasts?', 'answer': 'The Refresh Swimwear, V-Neck Tankini Contrasts is made of 82% recycled nylon and 18% Lycra® spandex for the body, and 90% recycled nylon and 10% Lycra® spandex for the lining.', 'result': 'The fabric composition of the Refresh Swimwear, V-Neck Tankini Contrasts is 82% recycled nylon with 18% Lycra® spandex for the body, and 90% recycled nylon with 10% Lycra® spandex for the lining.'}, {'query': 'What is the key feature of the EcoFlex 3L Storm Pants that sets them apart from other waterproof pants?', 'answer': 'The key feature of the EcoFlex 3L Storm Pants is the state-of-the-art TEK O2 technology, which offers the most breathability ever tested.', 'result': 'The key feature of the EcoFlex 3L Storm Pants that sets them apart from other waterproof pants is the state-of-the-art TEK O2 technology, which offers the most breathability ever tested. This technology allows air to permeate the pants while keeping water out, ensuring that you stay dry and comfortable during outdoor activities.'}]\n",
      "evaluation_queries[0]['query'] = Do the Cozy Comfort Pullover Set have side pockets?\n",
      "evaluation_queries[0]['answer'] = Yes\n",
      "predictions[0]['query'] = Do the Cozy Comfort Pullover Set have side pockets?\n",
      "predictions[0]['answer'] = Yes\n",
      "predictions[0]['result'] = Yes, the Cozy Comfort Pullover Set does have side pockets.\n"
     ]
    }
   ],
   "source": [
    "for i in range(0,len(evaluation_queries)):\n",
    "    print((evaluation_queries[i]))\n",
    "\n",
    "# Call the chain on all inputs in the list.\n",
    "# Deprecated since version 0.1.0: Use batch instead.\n",
    "# https://api.python.langchain.com/en/latest/chains/langchain.chains.retrieval_qa.base.RetrievalQA.html\n",
    "predictions = retrievalQA_chain.apply(evaluation_queries)\n",
    "print(evaluation_queries)\n",
    "print(\"*******\\n\")\n",
    "print(predictions)\n",
    "\n",
    "print(f\"evaluation_queries[0]['query'] = {evaluation_queries[0]['query']}\")\n",
    "print(f\"evaluation_queries[0]['answer'] = {evaluation_queries[0]['answer']}\")\n",
    "\n",
    "print(f\"predictions[0]['query'] = {predictions[0]['query']}\")\n",
    "print(f\"predictions[0]['answer'] = {predictions[0]['answer']}\")\n",
    "print(f\"predictions[0]['result'] = {predictions[0]['result']}\")\n"
   ]
  },
  {
   "cell_type": "code",
   "execution_count": 25,
   "id": "e83fc614-1ae4-4eeb-8e77-339fe16c4c4d",
   "metadata": {},
   "outputs": [],
   "source": [
    "from langchain.evaluation.qa import QAEvalChain"
   ]
  },
  {
   "cell_type": "code",
   "execution_count": 26,
   "id": "6ce1ec15-560a-402e-8764-c79ec3b72c46",
   "metadata": {},
   "outputs": [],
   "source": [
    "llm = ChatOpenAI(temperature=0, model=llm_model)\n",
    "eval_chain = QAEvalChain.from_llm(llm)"
   ]
  },
  {
   "cell_type": "code",
   "execution_count": 27,
   "id": "a7c19d80-1fc6-4a18-8d37-fc1aff8e5a00",
   "metadata": {},
   "outputs": [
    {
     "name": "stdout",
     "output_type": "stream",
     "text": [
      "[{'results': 'CORRECT'}, {'results': 'CORRECT'}, {'results': 'CORRECT'}, {'results': 'CORRECT'}, {'results': 'CORRECT'}, {'results': 'CORRECT'}, {'results': 'CORRECT'}]\n"
     ]
    }
   ],
   "source": [
    "graded_outputs = eval_chain.evaluate(evaluation_queries, predictions)\n",
    "print(graded_outputs)"
   ]
  },
  {
   "cell_type": "code",
   "execution_count": 28,
   "id": "20168576-dd7a-48a7-af60-c479cca5333f",
   "metadata": {},
   "outputs": [
    {
     "name": "stdout",
     "output_type": "stream",
     "text": [
      "Example 0:\n",
      "Question: Do the Cozy Comfort Pullover Set have side pockets?\n",
      "Real Answer: Yes\n",
      "Predicted Answer: Yes, the Cozy Comfort Pullover Set does have side pockets.\n",
      "Predicted Grade: CORRECT\n",
      "\n",
      "Example 1:\n",
      "Question: What collection is the Ultra-Lofty 850 Stretch Down Hooded Jacket from?\n",
      "Real Answer: The DownTek collection\n",
      "Predicted Answer: The Ultra-Lofty 850 Stretch Down Hooded Jacket is from the DownTek collection.\n",
      "Predicted Grade: CORRECT\n",
      "\n",
      "Example 2:\n",
      "Question: What is the weight of each pair of Women's Campside Oxfords?\n",
      "Real Answer: The approximate weight of each pair of Women's Campside Oxfords is 1 lb. 1 oz.\n",
      "Predicted Answer: The weight of each pair of Women's Campside Oxfords is approximately 1 lb. 1 oz.\n",
      "Predicted Grade: CORRECT\n",
      "\n",
      "Example 3:\n",
      "Question: What are the dimensions of the small and medium sizes of the Recycled Waterhog Dog Mat, Chevron Weave?\n",
      "Real Answer: The small size of the Recycled Waterhog Dog Mat, Chevron Weave has dimensions of 18\" x 28\", while the medium size has dimensions of 22.5\" x 34.5\".\n",
      "Predicted Answer: The dimensions of the small size of the Recycled Waterhog Dog Mat, Chevron Weave are 18\" x 28\". The dimensions of the medium size are 22.5\" x 34.5\".\n",
      "Predicted Grade: CORRECT\n",
      "\n",
      "Example 4:\n",
      "Question: What are some features of the Infant and Toddler Girls' Coastal Chill Swimsuit, Two-Piece?\n",
      "Real Answer: The features of the Infant and Toddler Girls' Coastal Chill Swimsuit, Two-Piece include bright colors, ruffles, exclusive whimsical prints, four-way-stretch and chlorine-resistant fabric, UPF 50+ rated fabric for sun protection, crossover no-slip straps, fully lined bottom, and the ability to be machine washed and line dried for best results.\n",
      "Predicted Answer: Some features of the Infant and Toddler Girls' Coastal Chill Swimsuit, Two-Piece are:\n",
      "- Bright colors and ruffles\n",
      "- Exclusive whimsical prints\n",
      "- Four-way-stretch and chlorine-resistant fabric\n",
      "- UPF 50+ rated fabric for sun protection\n",
      "- Crossover no-slip straps\n",
      "- Fully lined bottom for secure fit and maximum coverage\n",
      "- Machine washable and line dry for best results\n",
      "- Imported\n",
      "Predicted Grade: CORRECT\n",
      "\n",
      "Example 5:\n",
      "Question: What is the fabric composition of the Refresh Swimwear, V-Neck Tankini Contrasts?\n",
      "Real Answer: The Refresh Swimwear, V-Neck Tankini Contrasts is made of 82% recycled nylon and 18% Lycra® spandex for the body, and 90% recycled nylon and 10% Lycra® spandex for the lining.\n",
      "Predicted Answer: The fabric composition of the Refresh Swimwear, V-Neck Tankini Contrasts is 82% recycled nylon with 18% Lycra® spandex for the body, and 90% recycled nylon with 10% Lycra® spandex for the lining.\n",
      "Predicted Grade: CORRECT\n",
      "\n",
      "Example 6:\n",
      "Question: What is the key feature of the EcoFlex 3L Storm Pants that sets them apart from other waterproof pants?\n",
      "Real Answer: The key feature of the EcoFlex 3L Storm Pants is the state-of-the-art TEK O2 technology, which offers the most breathability ever tested.\n",
      "Predicted Answer: The key feature of the EcoFlex 3L Storm Pants that sets them apart from other waterproof pants is the state-of-the-art TEK O2 technology, which offers the most breathability ever tested. This technology allows air to permeate the pants while keeping water out, ensuring that you stay dry and comfortable during outdoor activities.\n",
      "Predicted Grade: CORRECT\n",
      "\n"
     ]
    }
   ],
   "source": [
    "# Compare 'answer' and 'result'\n",
    "for i, eg in enumerate(evaluation_queries):\n",
    "    print(f\"Example {i}:\")\n",
    "    print(\"Question: \" + predictions[i]['query'])\n",
    "    print(\"Real Answer: \" + predictions[i]['answer'])\n",
    "    print(\"Predicted Answer: \" + predictions[i]['result'])\n",
    "    # print(\"Predicted Grade: \" + graded_outputs[i]['text'])\n",
    "    print(\"Predicted Grade: \" + graded_outputs[i]['results'])\n",
    "    print()"
   ]
  },
  {
   "cell_type": "code",
   "execution_count": null,
   "id": "42a63353-bc73-47b4-a1c1-2818ac910ee9",
   "metadata": {},
   "outputs": [],
   "source": []
  },
  {
   "cell_type": "code",
   "execution_count": null,
   "id": "1809baaa-2aaa-4351-831b-b0578f0dc4b2",
   "metadata": {},
   "outputs": [],
   "source": []
  },
  {
   "cell_type": "code",
   "execution_count": null,
   "id": "9aa4acba-625c-420f-bbdf-644af0c82455",
   "metadata": {},
   "outputs": [],
   "source": []
  },
  {
   "cell_type": "code",
   "execution_count": null,
   "id": "6f6fffb5-b518-4bae-b09f-9a805d8a0441",
   "metadata": {},
   "outputs": [],
   "source": []
  }
 ],
 "metadata": {
  "kernelspec": {
   "display_name": "Python 3 (ipykernel)",
   "language": "python",
   "name": "python3"
  },
  "language_info": {
   "codemirror_mode": {
    "name": "ipython",
    "version": 3
   },
   "file_extension": ".py",
   "mimetype": "text/x-python",
   "name": "python",
   "nbconvert_exporter": "python",
   "pygments_lexer": "ipython3",
   "version": "3.11.6"
  }
 },
 "nbformat": 4,
 "nbformat_minor": 5
}
