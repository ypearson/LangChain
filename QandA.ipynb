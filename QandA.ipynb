{
 "cells": [
  {
   "cell_type": "code",
   "execution_count": 1,
   "id": "64ea8e8c-de3c-4902-a548-14539066c399",
   "metadata": {},
   "outputs": [
    {
     "name": "stdout",
     "output_type": "stream",
     "text": [
      "python version = 3.11.6 (main, Feb  2 2024, 13:53:38) [GCC 11.4.0]\n",
      "langchain version = 0.0.347\n",
      "openai version = 0.27.7\n",
      "docarray version = 0.32.1\n"
     ]
    }
   ],
   "source": [
    "# LangChain: Q&A over Documents\n",
    "\n",
    "# An example might be a tool that would allow you to query a product catalog for items of interest.\n",
    "\n",
    "# https://github.com/langchain-ai/langchain/issues/14585\n",
    "# https://community.deeplearning.ai/t/l4-validation-error-while-running-response-index-query-query-llm-llm-replacement-model/563009/5\n",
    "def get_api_key():\n",
    "    import os\n",
    "    from dotenv import load_dotenv\n",
    "    # Unset OPENAI_API_KEY if it exists\n",
    "    os.environ.pop('OPENAI_API_KEY', None)\n",
    "    # Provide path and ignore currently set environment variable\n",
    "    dotenv_path = '.env'\n",
    "    load_dotenv(dotenv_path=dotenv_path, override=True)\n",
    "    # Access the environment variable\n",
    "    api_key = os.getenv('OPENAI_API_KEY')\n",
    "    if api_key is None:\n",
    "        print(\"API_KEY not found.\")\n",
    "    return api_key\n",
    "\n",
    "import openai\n",
    "openai.api_key = get_api_key()\n",
    "import langchain\n",
    "import docarray\n",
    "import tiktoken\n",
    "\n",
    "import sys\n",
    "print(f'python version = {sys.version}')\n",
    "\n",
    "# import langchain_community\n",
    "print(f'langchain version = {langchain.__version__}')\n",
    "print(f'openai version = {openai.__version__}')\n",
    "print(f'docarray version = {docarray.__version__}')\n",
    "# print(f'LangChain Community Version = {langchain_community.__version__}')"
   ]
  },
  {
   "cell_type": "code",
   "execution_count": 2,
   "id": "eec2e9ac",
   "metadata": {},
   "outputs": [],
   "source": [
    "from langchain.chains import RetrievalQA\n",
    "from langchain.chat_models import ChatOpenAI\n",
    "from langchain.document_loaders import CSVLoader\n",
    "from langchain.vectorstores import DocArrayInMemorySearch\n",
    "from IPython.display import display, Markdown\n",
    "from langchain.llms import OpenAI"
   ]
  },
  {
   "cell_type": "code",
   "execution_count": 3,
   "id": "641e8dea",
   "metadata": {},
   "outputs": [
    {
     "name": "stdout",
     "output_type": "stream",
     "text": [
      "<langchain.document_loaders.csv_loader.CSVLoader object at 0x7f1c094fef90>\n"
     ]
    }
   ],
   "source": [
    "file = 'OutdoorClothingCatalog_1000.csv'\n",
    "loader = CSVLoader(file_path=file)\n",
    "print(loader)"
   ]
  },
  {
   "cell_type": "code",
   "execution_count": 4,
   "id": "6b76105e",
   "metadata": {},
   "outputs": [],
   "source": [
    "from langchain.indexes import VectorstoreIndexCreator\n",
    "\n",
    "index = VectorstoreIndexCreator(\n",
    "    vectorstore_cls=DocArrayInMemorySearch\n",
    ").from_loaders([loader])"
   ]
  },
  {
   "cell_type": "code",
   "execution_count": 5,
   "id": "447004af-1a7c-40cc-a210-3d911825d006",
   "metadata": {},
   "outputs": [],
   "source": [
    "query =\"Please list all your shirts with sun protection \\\n",
    "in a table in markdown and summarize each one.\""
   ]
  },
  {
   "cell_type": "code",
   "execution_count": 6,
   "id": "4c7c3d6f",
   "metadata": {},
   "outputs": [],
   "source": [
    "llm_replacement_model = OpenAI(temperature=0, \n",
    "                               model='gpt-3.5-turbo-instruct')\n",
    "\n",
    "response = index.query(query, \n",
    "                       llm = llm_replacement_model)"
   ]
  },
  {
   "cell_type": "code",
   "execution_count": 7,
   "id": "97eda7e8-aabb-424d-bf2c-f857d90d40bd",
   "metadata": {},
   "outputs": [
    {
     "data": {
      "text/markdown": [
       "\n",
       "\n",
       "| Name | Description | Sun Protection Rating |\n",
       "| --- | --- | --- |\n",
       "| Men's Tropical Plaid Short-Sleeve Shirt | Made of 100% polyester, UPF 50+ rating, wrinkle-resistant, front and back cape venting, two front bellows pockets | SPF 50+, blocks 98% of harmful UV rays |\n",
       "| Men's Plaid Tropic Shirt, Short-Sleeve | Made of 52% polyester and 48% nylon, UPF 50+ rating, SunSmart technology, wrinkle-free, front and back cape venting, two front bellows pockets | SPF 50+, blocks 98% of harmful UV rays |\n",
       "| Men's TropicVibe Shirt, Short-Sleeve | Made of 71% nylon and 29% polyester, UPF 50+ rating, front and back cape venting, two front bellows pockets | SPF 50+, blocks 98% of harmful UV rays |\n",
       "| Sun Shield Shirt | Made of 78% nylon and 22% Lycra Xtra Life fiber, UPF 50+ rating, moisture-wicking, abrasion-resistant, fits over swimsuit | SPF 50+, blocks 98% of harmful UV rays |"
      ],
      "text/plain": [
       "<IPython.core.display.Markdown object>"
      ]
     },
     "metadata": {},
     "output_type": "display_data"
    }
   ],
   "source": [
    "display(Markdown(response))"
   ]
  },
  {
   "cell_type": "code",
   "execution_count": null,
   "id": "7329c37e",
   "metadata": {},
   "outputs": [],
   "source": []
  },
  {
   "cell_type": "code",
   "execution_count": null,
   "id": "7eaed3ae",
   "metadata": {},
   "outputs": [],
   "source": []
  },
  {
   "cell_type": "code",
   "execution_count": null,
   "id": "7ad9026a",
   "metadata": {},
   "outputs": [],
   "source": []
  },
  {
   "cell_type": "code",
   "execution_count": null,
   "id": "aaeed27b",
   "metadata": {},
   "outputs": [],
   "source": []
  }
 ],
 "metadata": {
  "kernelspec": {
   "display_name": "Python 3 (ipykernel)",
   "language": "python",
   "name": "python3"
  },
  "language_info": {
   "codemirror_mode": {
    "name": "ipython",
    "version": 3
   },
   "file_extension": ".py",
   "mimetype": "text/x-python",
   "name": "python",
   "nbconvert_exporter": "python",
   "pygments_lexer": "ipython3",
   "version": "3.11.6"
  }
 },
 "nbformat": 4,
 "nbformat_minor": 5
}
